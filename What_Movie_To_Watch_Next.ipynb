{
 "cells": [
  {
   "cell_type": "code",
   "execution_count": 27,
   "metadata": {},
   "outputs": [],
   "source": [
    "df = pd.read_csv('movies_complete.csv', parse_dates = ['release_date'])"
   ]
  },
  {
   "cell_type": "code",
   "execution_count": 28,
   "metadata": {},
   "outputs": [
    {
     "data": {
      "text/plain": [
       "0     Animation|Comedy|Family\n",
       "1    Adventure|Fantasy|Family\n",
       "2              Romance|Comedy\n",
       "3        Comedy|Drama|Romance\n",
       "4                      Comedy\n",
       "Name: genres, dtype: object"
      ]
     },
     "execution_count": 28,
     "metadata": {},
     "output_type": "execute_result"
    }
   ],
   "source": [
    "#Find a film genre with your favorite actor\n",
    "\n",
    "df.genres[:5]"
   ]
  },
  {
   "cell_type": "code",
   "execution_count": 29,
   "metadata": {},
   "outputs": [
    {
     "data": {
      "text/plain": [
       "0        False\n",
       "1        False\n",
       "2        False\n",
       "3        False\n",
       "4        False\n",
       "         ...  \n",
       "44686    False\n",
       "44687    False\n",
       "44688    False\n",
       "44689    False\n",
       "44690    False\n",
       "Name: genres, Length: 44691, dtype: bool"
      ]
     },
     "execution_count": 29,
     "metadata": {},
     "output_type": "execute_result"
    }
   ],
   "source": [
    "mask_genres = df.genres.str.contains('Action') & df.genres.str.contains('Science Fiction')\n",
    "mask_genres"
   ]
  },
  {
   "cell_type": "code",
   "execution_count": 30,
   "metadata": {},
   "outputs": [
    {
     "data": {
      "text/plain": [
       "0    Tom Hanks|Tim Allen|Don Rickles|Jim Varney|Wal...\n",
       "1    Robin Williams|Jonathan Hyde|Kirsten Dunst|Bra...\n",
       "2    Walter Matthau|Jack Lemmon|Ann-Margret|Sophia ...\n",
       "3    Whitney Houston|Angela Bassett|Loretta Devine|...\n",
       "4    Steve Martin|Diane Keaton|Martin Short|Kimberl...\n",
       "Name: cast, dtype: object"
      ]
     },
     "execution_count": 30,
     "metadata": {},
     "output_type": "execute_result"
    }
   ],
   "source": [
    "df.cast[:5]"
   ]
  },
  {
   "cell_type": "code",
   "execution_count": 31,
   "metadata": {},
   "outputs": [
    {
     "data": {
      "text/plain": [
       "0        False\n",
       "1        False\n",
       "2        False\n",
       "3        False\n",
       "4        False\n",
       "         ...  \n",
       "44686    False\n",
       "44687    False\n",
       "44688    False\n",
       "44689    False\n",
       "44690      NaN\n",
       "Name: cast, Length: 44691, dtype: object"
      ]
     },
     "execution_count": 31,
     "metadata": {},
     "output_type": "execute_result"
    }
   ],
   "source": [
    "mask_actor = df.cast.str.contains('Tom Cruise')\n",
    "mask_actor"
   ]
  },
  {
   "cell_type": "code",
   "execution_count": 41,
   "metadata": {},
   "outputs": [
    {
     "data": {
      "text/html": [
       "<div>\n",
       "<style scoped>\n",
       "    .dataframe tbody tr th:only-of-type {\n",
       "        vertical-align: middle;\n",
       "    }\n",
       "\n",
       "    .dataframe tbody tr th {\n",
       "        vertical-align: top;\n",
       "    }\n",
       "\n",
       "    .dataframe thead th {\n",
       "        text-align: right;\n",
       "    }\n",
       "</style>\n",
       "<table border=\"1\" class=\"dataframe\">\n",
       "  <thead>\n",
       "    <tr style=\"text-align: right;\">\n",
       "      <th></th>\n",
       "      <th>title</th>\n",
       "      <th>vote_average</th>\n",
       "    </tr>\n",
       "  </thead>\n",
       "  <tbody>\n",
       "    <tr>\n",
       "      <th>23212</th>\n",
       "      <td>Edge of Tomorrow</td>\n",
       "      <td>7.6</td>\n",
       "    </tr>\n",
       "    <tr>\n",
       "      <th>5267</th>\n",
       "      <td>Minority Report</td>\n",
       "      <td>7.1</td>\n",
       "    </tr>\n",
       "    <tr>\n",
       "      <th>20544</th>\n",
       "      <td>Oblivion</td>\n",
       "      <td>6.4</td>\n",
       "    </tr>\n",
       "  </tbody>\n",
       "</table>\n",
       "</div>"
      ],
      "text/plain": [
       "                  title  vote_average\n",
       "23212  Edge of Tomorrow           7.6\n",
       "5267    Minority Report           7.1\n",
       "20544          Oblivion           6.4"
      ]
     },
     "execution_count": 41,
     "metadata": {},
     "output_type": "execute_result"
    }
   ],
   "source": [
    "df.loc[mask_actor & mask_genres, ['title','vote_average']].sort_values(by = 'vote_average', \n",
    "                                                                       ascending = False)"
   ]
  },
  {
   "cell_type": "code",
   "execution_count": 42,
   "metadata": {},
   "outputs": [],
   "source": [
    "Cruise = df.loc[mask_actor & mask_genres, ['title','poster_path','vote_average']].sort_values(by = 'vote_average', \n",
    "                                                                                              ascending = False)"
   ]
  },
  {
   "cell_type": "code",
   "execution_count": 44,
   "metadata": {},
   "outputs": [
    {
     "data": {
      "text/html": [
       "<table border=\"1\" class=\"dataframe\">\n",
       "  <thead>\n",
       "    <tr style=\"text-align: right;\">\n",
       "      <th></th>\n",
       "      <th>title</th>\n",
       "      <th>poster_path</th>\n",
       "      <th>vote_average</th>\n",
       "    </tr>\n",
       "  </thead>\n",
       "  <tbody>\n",
       "    <tr>\n",
       "      <th>23212</th>\n",
       "      <td>Edge of Tomorrow</td>\n",
       "      <td><img src='http://image.tmdb.org/t/p/w185//uUHvlkLavotfGsNtosDy8ShsIYF.jpg' style='height:100px;'></td>\n",
       "      <td>7.6</td>\n",
       "    </tr>\n",
       "    <tr>\n",
       "      <th>5267</th>\n",
       "      <td>Minority Report</td>\n",
       "      <td><img src='http://image.tmdb.org/t/p/w185//q8dbg0WhfbCJDCrfXWTOzJoVDnV.jpg' style='height:100px;'></td>\n",
       "      <td>7.1</td>\n",
       "    </tr>\n",
       "    <tr>\n",
       "      <th>20544</th>\n",
       "      <td>Oblivion</td>\n",
       "      <td><img src='http://image.tmdb.org/t/p/w185//2ncs7hqBsEjFMqt6Y7ShBCO9tWs.jpg' style='height:100px;'></td>\n",
       "      <td>6.4</td>\n",
       "    </tr>\n",
       "  </tbody>\n",
       "</table>"
      ],
      "text/plain": [
       "<IPython.core.display.HTML object>"
      ]
     },
     "execution_count": 44,
     "metadata": {},
     "output_type": "execute_result"
    }
   ],
   "source": [
    "from IPython.display import HTML\n",
    "HTML(Cruise.to_html(escape=False))"
   ]
  },
  {
   "cell_type": "code",
   "execution_count": null,
   "metadata": {},
   "outputs": [],
   "source": []
  },
  {
   "cell_type": "code",
   "execution_count": null,
   "metadata": {},
   "outputs": [],
   "source": []
  }
 ],
 "metadata": {
  "kernelspec": {
   "display_name": "Python 3",
   "language": "python",
   "name": "python3"
  },
  "language_info": {
   "codemirror_mode": {
    "name": "ipython",
    "version": 3
   },
   "file_extension": ".py",
   "mimetype": "text/x-python",
   "name": "python",
   "nbconvert_exporter": "python",
   "pygments_lexer": "ipython3",
   "version": "3.8.3"
  }
 },
 "nbformat": 4,
 "nbformat_minor": 4
}
